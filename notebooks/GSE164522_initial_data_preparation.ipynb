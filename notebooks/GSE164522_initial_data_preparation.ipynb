{
 "cells": [
  {
   "cell_type": "markdown",
   "metadata": {},
   "source": [
    "#### Prepare GSE164522 Data for Downstream Analysis\n",
    "This notebook prepares the original TCR sequencing data for all downstream analysis tasks in the project."
   ]
  },
  {
   "cell_type": "markdown",
   "metadata": {},
   "source": [
    "#### Set Environment"
   ]
  },
  {
   "cell_type": "code",
   "execution_count": null,
   "metadata": {},
   "outputs": [],
   "source": [
    "import pandas as pd\n",
    "import collections"
   ]
  },
  {
   "cell_type": "markdown",
   "metadata": {},
   "source": [
    "#### Load Original Data"
   ]
  },
  {
   "cell_type": "code",
   "execution_count": null,
   "metadata": {},
   "outputs": [],
   "source": [
    "# Load original data\n",
    "T_cell_GSE164522 = pd.read_csv('~/CODON_CVC/single_cell_data/GSE164522_colon_data/GSE164522_vdj_final.csv', index_col=0)\n",
    "T_cell_GSE164522"
   ]
  },
  {
   "cell_type": "markdown",
   "metadata": {},
   "source": [
    "Initially, each row had both the alpha and beta sequences. Below we split the rows so that each row will contain 1 sequence, like the formats of the other datasets."
   ]
  },
  {
   "cell_type": "code",
   "execution_count": null,
   "metadata": {},
   "outputs": [],
   "source": [
    "# Splitting the DataFrame into two, one for '_a' and one for '_b'\n",
    "T_cell_GSE164522_a = T_cell_GSE164522[['barcode', 'Patient_a', 'cdr3_a', 'cdr3_nt_a', 'v_gene_a', 'j_gene_a', 'TISSUE_a']].copy()\n",
    "T_cell_GSE164522_b = T_cell_GSE164522[['barcode', 'Patient_b', 'cdr3_b', 'cdr3_nt_b', 'v_gene_b', 'j_gene_b', 'TISSUE_b']].copy()\n",
    "\n",
    "# Renaming columns to have a unified structure\n",
    "T_cell_GSE164522_a.columns = ['barcode', 'patient', 'cdr3_aa', 'cdr3_nt', 'v_gene', 'j_gene', 'tissue']\n",
    "T_cell_GSE164522_b.columns = ['barcode', 'patient', 'cdr3_aa', 'cdr3_nt', 'v_gene', 'j_gene', 'tissue']\n",
    "\n",
    "# Concatenating the DataFrames to stack them vertically\n",
    "T_cell_GSE164522_subset = pd.concat([T_cell_GSE164522_a, T_cell_GSE164522_b], ignore_index=True)\n",
    "\n",
    "# edit tissue column: MN1 and MN2 to MN , MT1 and MT2 to MT\n",
    "T_cell_GSE164522_subset['tissue'] = T_cell_GSE164522_subset['tissue'].replace(['MN1', 'MN2'], 'MN')\n",
    "T_cell_GSE164522_subset['tissue'] = T_cell_GSE164522_subset['tissue'].replace(['MT1', 'MT2'], 'MT')"
   ]
  },
  {
   "cell_type": "code",
   "execution_count": null,
   "metadata": {},
   "outputs": [],
   "source": [
    "# drop duplicates\n",
    "T_cell_GSE164522_subset = T_cell_GSE164522_subset.drop_duplicates()\n",
    "collections.Counter(T_cell_GSE164522_subset['tissue'])"
   ]
  },
  {
   "cell_type": "markdown",
   "metadata": {},
   "source": [
    "##### Subset data for a specific tissue"
   ]
  },
  {
   "cell_type": "code",
   "execution_count": null,
   "metadata": {},
   "outputs": [],
   "source": [
    "# subset only PBMC, MT and PT tissue\n",
    "T_cell_GSE164522_subset_PBMC_Tumor = T_cell_GSE164522_subset[T_cell_GSE164522_subset['tissue'].isin(['PBMC', 'PT'])]\n",
    "T_cell_GSE164522_subset_PBMC_Tumor"
   ]
  },
  {
   "cell_type": "markdown",
   "metadata": {},
   "source": [
    "#### Export Data"
   ]
  },
  {
   "cell_type": "code",
   "execution_count": null,
   "metadata": {},
   "outputs": [],
   "source": [
    "DATA_TO_EXPORT_SPECIFIC = T_cell_GSE164522_subset_PBMC_Tumor\n",
    "DATA_TO_EXPORT_ALL = T_cell_GSE164522_subset\n",
    "\n",
    "# export to csv\n",
    "DATA_TO_EXPORT_SPECIFIC.to_csv('~/CODON_CVC/single_cell_data/GSE164522_colon_data/GSE164522_subset_PBMC_PT.csv')\n",
    "DATA_TO_EXPORT_ALL.to_csv('~/CODON_CVC/single_cell_data/GSE164522_colon_data/GSE164522_all_labels.csv')"
   ]
  }
 ],
 "metadata": {
  "language_info": {
   "name": "python"
  }
 },
 "nbformat": 4,
 "nbformat_minor": 2
}
