{
 "cells": [
  {
   "cell_type": "markdown",
   "metadata": {},
   "source": [
    "#### Zhang Data Preparation\n",
    "This notebook prepares the Zhang dataset to be used for all downstream analysis. "
   ]
  },
  {
   "cell_type": "markdown",
   "metadata": {},
   "source": [
    "#### Set Environment"
   ]
  },
  {
   "cell_type": "code",
   "execution_count": null,
   "metadata": {},
   "outputs": [],
   "source": [
    "import pandas as pd"
   ]
  },
  {
   "cell_type": "markdown",
   "metadata": {},
   "source": [
    "#### Load Data"
   ]
  },
  {
   "cell_type": "code",
   "execution_count": null,
   "metadata": {},
   "outputs": [],
   "source": [
    "zhang_data = pd.read_csv(\"~/CRC_Project/single_cell_data/Zhang_TCR_CRC_with_TissueType.csv\")\n",
    "# make row 0 the column names\n",
    "zhang_data.columns = zhang_data.iloc[0]\n",
    "# remove row 0\n",
    "zhang_data = zhang_data[1:10806]"
   ]
  },
  {
   "cell_type": "markdown",
   "metadata": {},
   "source": [
    "#### Prepare Data"
   ]
  },
  {
   "cell_type": "code",
   "execution_count": null,
   "metadata": {},
   "outputs": [],
   "source": [
    "# add column tissue and get the information from Cell type column: \n",
    "# PTC\tPBMC\n",
    "# TTC\tPT\n",
    "# NTC\tPN\n",
    "# PTH\tPBMC\n",
    "# TTH\tPT\n",
    "# NTH\tPN\n",
    "# PTR\tPBMC\n",
    "# TTR\tPT\n",
    "# NTR\tPN\n",
    "# PTY\tPBMC\n",
    "# TTY\tPT\n",
    "# NTY\tPN\n",
    "# PP7\tPBMC\n",
    "# TP7\tPT\n",
    "# NP7\tPN\n",
    "\n",
    "tissue_list = []\n",
    "for i in zhang_data[\"Cell typea\"]:\n",
    "    if i == \"PTC\" or i == \"PTH\" or i == \"PTR\" or i == \"PTY\" or i == \"PP7\":\n",
    "        tissue_list.append(\"PBMC\")\n",
    "    elif i == \"TTC\" or i == \"TTH\" or i == \"TTR\" or i == \"TTY\" or i == \"TP7\":\n",
    "        tissue_list.append(\"PT\")\n",
    "    elif i == \"NTC\" or i == \"NTH\" or i == \"NTR\" or i == \"NTY\" or i == \"NP7\":\n",
    "        tissue_list.append(\"PN\")\n",
    "    else:\n",
    "        print(\"error\")\n",
    "\n",
    "zhang_data[\"tissue\"] = tissue_list\n",
    "zhang_data\n",
    "        "
   ]
  },
  {
   "cell_type": "code",
   "execution_count": null,
   "metadata": {},
   "outputs": [],
   "source": [
    "# Creating a new DataFrame to contain TRA and TRB sequences in different rows, under cdr3_aa column\n",
    "zhang_alpha = zhang_data.rename(columns={'CDR3 (Alpha1)': 'cdr3_aa'})\n",
    "zhang_alpha['chain'] = 'TRA'\n",
    "zhang_beta = zhang_data.rename(columns={'CDR3 (Beta1)': 'cdr3_aa'})\n",
    "zhang_beta['chain'] = 'TRB'\n",
    "\n",
    "# Concatenating both dataframes to double the rows\n",
    "zhang_data_combined = pd.concat([zhang_alpha, zhang_beta], ignore_index=True)\n",
    "# drop na in CDR3 column\n",
    "zhang_data_combined.dropna(subset=['cdr3_aa'], inplace=True)\n",
    "zhang_data_combined"
   ]
  },
  {
   "cell_type": "code",
   "execution_count": null,
   "metadata": {},
   "outputs": [],
   "source": [
    "# remove CDR3 sequences that starts with Couldn't\n",
    "zhang_data_combined = zhang_data_combined[~zhang_data_combined['cdr3_aa'].str.startswith(\"Couldn't\")]"
   ]
  },
  {
   "cell_type": "code",
   "execution_count": null,
   "metadata": {},
   "outputs": [],
   "source": [
    "# Count unique patients for each cdr3_aa sequence\n",
    "cdr3_aa_publicity = zhang_data_combined.groupby('cdr3_aa')['Patient'].nunique().reset_index(name='unique_patients')\n",
    "\n",
    "# Determine if the cdr3_aa sequence is public or private\n",
    "cdr3_aa_publicity['publicity'] = (cdr3_aa_publicity['unique_patients'] > 1).astype(int)\n",
    "\n",
    "# Merge the publicity information back into the original dataframe\n",
    "zhang_data_combined = zhang_data_combined.merge(cdr3_aa_publicity[['cdr3_aa', 'publicity', 'unique_patients']], on='cdr3_aa', how='left')"
   ]
  },
  {
   "cell_type": "markdown",
   "metadata": {},
   "source": [
    "#### Export"
   ]
  },
  {
   "cell_type": "code",
   "execution_count": null,
   "metadata": {},
   "outputs": [],
   "source": [
    "zhang_data_combined.to_csv(\"~/CRC_Project/single_cell_data/Zhang_TCR_CRC_with_TissueType_cleaned.csv\", index=False)"
   ]
  }
 ],
 "metadata": {
  "language_info": {
   "name": "python"
  }
 },
 "nbformat": 4,
 "nbformat_minor": 2
}
